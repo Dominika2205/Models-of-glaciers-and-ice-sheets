{
 "cells": [
  {
   "cell_type": "markdown",
   "id": "307dc901",
   "metadata": {},
   "source": [
    "# __Prosty model lodowca__\n",
    "### *Dorota Benari, Dominika Lewandowska*"
   ]
  },
  {
   "cell_type": "markdown",
   "id": "3ecc9817",
   "metadata": {},
   "source": [
    "# Wstęp"
   ]
  },
  {
   "cell_type": "markdown",
   "id": "34c07437",
   "metadata": {},
   "source": [
    "## Pierwsze modele lodowców\n",
    "\n",
    "Pierwsze modele lodowców, które zaczęły powstawać w XVII wieku, były oparte na prostych równaniach różniczkowych i intuicji. Głównie koncentrowały się na obserwacji ich ruchu, próbie wyjaśnienia tego zjawiska oraz zbadaniu roli, jaką lodowce miały w kształtowaniu terenu.  \n",
    "W dzisiejszych czasach potrzebujemy ich także, aby zrozumieć problem zmian klimatycznych i jak szybko te zmiany spowodują całkowite zniknięcie lodowców.\n",
    "\n",
    "Przykładem mogą być zlodowaciałe obszary górskie, takie jak te na Alasce lub w Himalajach. Na Alasce, jak wskazano w artykule „Rapid Wastage of Alaska Glaciers and Their Contribution to Rising Sea Level”, od połowy XX wieku obserwowane są stopniowo przyspieszające utraty masy lodowców. Lodowce na Alasce, na skutek szybkiego topnienia, są dużym powodem podnoszenia się poziomu morza – szacuje się, że rocznie z tego powodu przybywa: $ 0.27 \\pm 0.10 \\, \\text{mm/rok}.$ [1]\n",
    "\n",
    "Takie zjawiska zostały również zaobserwowane w Himalajach. W tym przypadku długotrwała utrata masy lodowcowej może doprowadzić do fizycznego oderwania się języków lodowców pokrytych gruzem na dużych wysokościach. [2]\n",
    "\n",
    "\n",
    "## Podstawy teoretyczne i opis zjawiska\n",
    "\n",
    "Lodowiec to zbiór lodu utworzonego z nagromadzonego śniegu, który znajduje się powyżej strefy wiecznego śniegu. Jest to wolno płynąca masa lodu oraz największy zbiornik słodkiej wody na naszej planecie. Do ich rodziny należą lądolody, czyli masywne pokrywy lodowe, takie jak na Grenlandii (ok. $ 1.7 \\, \\text{mln km}^2 $) bądź na Antarktyce (ok. $ 10 \\, \\text{mln km}^2 $). [3] \n",
    "\n",
    "Lodowce i lądolody tworzą się przy temperaturze poniżej $ 0^\\circ \\, \\text{C} $, opadach śniegu oraz płaskim terenie. Posiadają one granicę wiecznego śniegu, czyli linię, powyżej której roczna ilość opadów śniegu przewyższa jego straty spowodowane topnieniem i parowaniem. Z czasem pokrywa śnieżna pogrubia się i wzmacnia. Granica wiecznego śniegu jest zależna od temperatury.\n",
    "\n",
    "Pod własną masą warstwa śniegu spłaszcza się i powstaje firn, a obszar, gdzie ten proces zachodzi, nazywany jest polem firnowym. Gdy ilość lodu jest już krytyczna, niższe warstwy stają się plastyczne pod ciśnieniem wyższych warstw. Lód spływa poniżej granicy wiecznego śniegu, a następnie tworzy się jęzor lodowcowy. Gdy taki jęzor spłynie w dół doliny V-kształtnej, zmieni ją w U-kształtną. W miejscu pola firnowego powstanie cyrk lodowcowy.  \n",
    "\n",
    "Takie zlodowacenia miały wielki wpływ na rzeźbę terenu, np. w Polsce. [4]"
   ]
  },
  {
   "cell_type": "markdown",
   "id": "2d7eb689",
   "metadata": {},
   "source": [
    "# Prosty model lodowca i implementacje numeryczne"
   ]
  },
  {
   "cell_type": "markdown",
   "id": "f8652c04",
   "metadata": {},
   "source": [
    "W tej części skupimy się na opisaniu wpływu topnienia lodowca na podnoszenie się poziomu morza. Opracowałyśmy uproszczony model matematyczny, bazujący na kilku założeniach i uproszczeniach na podstawie dostępnych danych."
   ]
  },
  {
   "cell_type": "markdown",
   "id": "a04c7aeb",
   "metadata": {},
   "source": [
    "## Założenia modelu"
   ]
  },
  {
   "cell_type": "markdown",
   "id": "4a917d1f",
   "metadata": {},
   "source": [
    "### Lodowiec jako prostopadłościan"
   ]
  },
  {
   "cell_type": "markdown",
   "id": "e768784b",
   "metadata": {},
   "source": [
    "Zakładamy, że rozważany lodowiec ma kształt prostopadłościanu i dryfuje spokojnie na Oceanie Arktycznym. \n",
    "Objętość początkowa lodowca $V(t=0)$ jest proporcjonalna do jego powierzchni podstawy $A$ i wysokości $h$:\n",
    "$$\n",
    "V(t) = A(t)h(t).\n",
    "$$"
   ]
  },
  {
   "cell_type": "markdown",
   "id": "72992065",
   "metadata": {},
   "source": [
    "### Zmiana powierzchni $A(t)$ i $h(t)$"
   ]
  },
  {
   "cell_type": "markdown",
   "id": "646e7af8",
   "metadata": {},
   "source": [
    "Zakładamy, że powierzchnia lodowca $A(t)$ oraz $h(t)$ zmieniają się zgodnie z zależnościami geometrycznymi:\n",
    "\n",
    "1. Wysokość lodowca $h(t)$ jako funckaj objętości $V(t)$:\n",
    "\n",
    "$$\n",
    "h(t)=h_0\\left(\\frac{V(t)}{V_0}\\right)^\\frac{1}{3}.\n",
    "$$\n",
    "\n",
    "2. Powierzchnia lodowca $A(t)$ jako funkcja wysokości $h(t)$:\n",
    "\n",
    "$$\n",
    "A(t)=A_0\\left(\\frac{h(t)}{h_0}\\right)^2.\n",
    "$$"
   ]
  },
  {
   "cell_type": "markdown",
   "id": "002721af",
   "metadata": {},
   "source": [
    "### Temperatura i topnienie lodowca w czasie $t$\n",
    "\n",
    "Z załączonego _wykresu 1._ (wykres pochodzi z analizy temperatur powierzchni Ziemi wykonanej przez zespół GISTEMP [5].) widać, że od około 1965 roku temperatura rośnie niemal liniowo. Dzięki kalkulatorowi GeoGebra [6] zaznaczyłyśmy przybliżoną funkcję liniową zaznaczoną zielonym kolorem na _wykresie 2_, która opisuje tempo rośnięcia średniej temperatury na świecie wyrażone wzorem:\n",
    "\n",
    "$$\n",
    "T(t)=T_0+\\frac{1}{2}t.\n",
    "$$\n",
    "\n",
    "Dlatego zakładamy dla uproszczenia, że topnienie lodowca zależy liniowo od temperatury w czasie.  \n",
    "Pandto zakładamy, że topnienie lodowca jest proporcjonale do powierzchni lodowca $A$. Większa powierzchnia lodowca wystawiona na działanie ciepła oznacza większe tempo topnienia. "
   ]
  },
  {
   "cell_type": "markdown",
   "id": "c6b2aa55",
   "metadata": {},
   "source": [
    "<p style=\"font-size: 14px; color: gray; font-style: italic;text-align:center\">Wykres 1:</p>\n",
    "<p style=\"font-size: 14px; color: gray; font-style: italic;text-align:center\">&bdquo;Średnia globalna temperatura na podstawie danych z lądu i oceanów&rdquo;</p>\n",
    "<img src=\"https://data.giss.nasa.gov/gistemp/graphs_v4/graph_data/Global_Mean_Estimates_based_on_Land_and_Ocean_Data/graph.png\" class=\"bg-primary\" width=\"600px\" style=\"box-shadow: 3px 3px 3px gray;\">\n",
    "\n"
   ]
  },
  {
   "cell_type": "markdown",
   "id": "48a916c0",
   "metadata": {},
   "source": [
    "### Wzrost poziomu morza $y(t)$\n"
   ]
  },
  {
   "cell_type": "markdown",
   "id": "6e11baad",
   "metadata": {},
   "source": [
    "Cała woda z topniejącego lodowca wpływa do morza i powoduje wzrost poziomu wody. Tę zmianę opisuje wzór:\n",
    "\n",
    "$$\n",
    "y(t) = \\frac{\\Delta V(t)}{A_{\\text{oceanów}}},\n",
    "$$\n",
    "\n",
    "gdzie $A_{\\text{oceanów}}$ to powierzchnia oceanów, a $\\Delta V(t)$ to zmiana objętości lodowca.\n"
   ]
  },
  {
   "cell_type": "markdown",
   "id": "d3089b01",
   "metadata": {},
   "source": [
    "## Tworzenie modelu"
   ]
  },
  {
   "cell_type": "markdown",
   "id": "13ae62bd",
   "metadata": {},
   "source": [
    "### Zmiana objętości lodowca w czasie\n"
   ]
  },
  {
   "cell_type": "markdown",
   "id": "fe1d53c2",
   "metadata": {},
   "source": [
    "Po uwzględnieniu wszystkich założeń otrzymujemy równanie różniczkowe opisujące zmiane objętości lodowca w czasie:\n",
    "\n",
    "$$\n",
    "\\frac{dV(t)}{dt}=-\\alpha A_0\\left(\\frac{h(t)}{h_0}\\right)^2(T_0+\\frac{1}{2}t-T_0), \n",
    "$$\n",
    "\n",
    "gdzie $\\alpha$ to współczynnik proporcjonalności opisujący szybkość topnienia lodowca w jednostce czasu. W dalszej części zakładamy dla niej hipotetyczną wartość $\\alpha = 0.01 \\, \\frac{\\text{km}^3}{\\text{°C}\\text{rok}}$. Zakładamy również, że $t$ jest wyrażone w latach.  \n",
    "\n"
   ]
  },
  {
   "cell_type": "markdown",
   "id": "fce4bba8",
   "metadata": {},
   "source": [
    "### Parametry Modelu\n"
   ]
  },
  {
   "cell_type": "markdown",
   "id": "09783dfc",
   "metadata": {},
   "source": [
    "### Początkowe warunki wykorzytywane później w obliczeniach i algorytmach:\n",
    "- $V_0=3000000 km^3$, początkowa objętość lodowca.\n",
    "- $A_0=900000 km^2$, początkowa powierzchnia podstawy lodowca.\n",
    "- $H_0=4000 m$, początkowa wysokość lodowca.\n",
    "- $T_0 = 1^\\circ \\text{C}$, przybliżona średnia temperatura na ten rok odczytana z _wykresu 1_.\n",
    "- $\\alpha = 0.01 \\, \\frac{\\text{km}^3}{\\text{°C} \\cdot \\text{rok}}$\n",
    "- $A_{\\text{oceanów}}= 361$ mln $km^2$, powierzchnia oceanów.\n"
   ]
  },
  {
   "cell_type": "markdown",
   "id": "ded7b32c",
   "metadata": {},
   "source": [
    "# Metody rozwiązywania modelu"
   ]
  },
  {
   "cell_type": "markdown",
   "id": "c22eba06",
   "metadata": {},
   "source": [
    "## Metoda analityczna"
   ]
  },
  {
   "cell_type": "markdown",
   "id": "1dbcf109",
   "metadata": {},
   "source": [
    "### Rozwiązanie równania różniczkowego\n",
    "\n",
    "Rozważamy równanie różniczkowe:\n",
    "\n",
    "$$\n",
    "\\frac{dV(t)}{dt}=-\\alpha A_0\\left(\\frac{h_0}{h(t)}\\right)^2\\frac{1}{2}t.\n",
    "$$\n",
    "\n",
    "Zakładamy, że wysokość lodowca $h(t)$ zmienia się zgodnie z zależnością:\n",
    "\n",
    "$$\n",
    "h(t) =h_0\\left(\\frac{V(t)}{V_0}\\right)^{1/3},\n",
    "$$\n",
    "\n",
    "co oznacza:\n",
    "\n",
    "$$\n",
    "\\left(\\frac{h_0}{h(t)}\\right)^2=\\left(\\frac{V_0}{V(t)}\\right)^{2/3}.\n",
    "$$\n",
    "\n",
    "Podstawiając to do równania, otrzymujemy:\n",
    "\n",
    "$$\n",
    "\\frac{dV(t)}{dt}= -\\alpha A_0\\left(\\frac{V_0}{V(t)}\\right)^{2/3} \\frac{1}{2}t.\n",
    "$$\n",
    "\n",
    "Przekształcamy równanie do postaci umożliwiającej rozdzielenie zmiennych:\n",
    "\n",
    "$$\n",
    "\\frac{dV(t)}{\\left(V(t)\\right)^{2/3}}=-\\frac{\\alpha A_0}{V_0^{2/3}}\\frac{1}{2}t \\, dt.\n",
    "$$\n",
    "\n",
    "Dzielimy obie strony i całkujemy.  \n",
    "\n",
    "Obliczamy całkę po lewej stronie:\n",
    "\n",
    "$$\n",
    "\\int V(t)^{-2/3} \\, dV(t)=\\int V^{-2/3} \\,dV=3V^{1/3}.\n",
    "$$\n",
    "\n",
    "Obliczamy całkę po prawej stronie:\n",
    "\n",
    "$$\n",
    "-\\frac{\\alpha A_0}{V_0^{2/3}}\\frac{1}{2} \\int t \\, dt=-\\frac{\\alpha A_0}{2V_0^{2/3}}\\frac{t^2}{2}=-\\frac{\\alpha A_0}{4V_0^{2/3}}t^2.\n",
    "$$\n",
    "\n",
    "Scałkowane równanie ma postać:\n",
    "\n",
    "$$\n",
    "3V(t)^{1/3}=-\\frac{\\alpha A_0}{4V_0^{2/3}}t^2+C,\n",
    "$$\n",
    "\n",
    "gdzie $C$ jest stałą całkowania.  \n",
    "Wyznaczamy stałą całkowania $C$.  \n",
    "Dla $t = 0$ mamy $V(0) = V_0$. Podstawiamy:\n",
    "\n",
    "$$\n",
    "3V_0^{1/3}=C.\n",
    "$$\n",
    "\n",
    "Zatem:\n",
    "\n",
    "$$\n",
    "C=3V_0^{1/3}.\n",
    "$$\n",
    "\n",
    "Ostatecznie równanie na objętość $V(t)$ w czasie to:\n",
    "\n",
    "$$\n",
    "3V(t)^{1/3}=3V_0^{1/3}-\\frac{\\alpha A_0}{4V_0^{2/3}}t^2.\n",
    "$$\n",
    "\n",
    "Podzielmy obie strony przez 3 i podnieśmy do potęgi trzeciej, aby wyznaczyć $ V(t)$:\n",
    "\n",
    "$$\n",
    "V(t)=\\left[V_0^{1/3}-\\frac{\\alpha A_0}{12V_0^{2/3}}t^2\\right]^3.\n",
    "$$\n"
   ]
  },
  {
   "cell_type": "markdown",
   "id": "9df1fbf6",
   "metadata": {},
   "source": [
    "## Metoda Eulera"
   ]
  },
  {
   "cell_type": "markdown",
   "id": "c100bb5f",
   "metadata": {},
   "source": [
    "Przedstawiona pierwotnie przez Leonharda Eulera w 1768 roku w pozycji pt. 'Kształcenie w rachunku różniczkowym', metoda opiera się na rozwiązywaniu równań różniczkowych poprzez interpretację geometryczną.\n",
    "\n",
    "### Metoda podstawowa\n",
    "\n",
    "Zapisujemy równanie modelu w postaci:\n",
    "$$\n",
    "\\frac{dV(t)}{dt}= f(t,V(t)).\n",
    "$$\n",
    "\n",
    "Aby otrzymać rozwiązanie numeryczne przybliżamy pochodną:\n",
    "\n",
    "$$\n",
    "\\frac{dV(t)}{dt}\\approx\\frac{V(t+h)-V(t)}{h}.\n",
    "$$\n",
    "\n",
    "Rozwiązujemy dla $V(t+h)$:\n",
    "\n",
    "$$\n",
    "V(t+h)\\approx V(t)+h\\frac{dV(t)}{dt}.\n",
    "$$\n",
    "\n",
    "Podstawiamy wcześniejsze założenie:\n",
    "\n",
    "$$\n",
    "V(t+h)\\approx V(t)+h f(t_n,V_n).\n",
    "$$\n",
    "\n",
    "W ten sposób otrzymujemy iterację:\n",
    "\n",
    "$$\n",
    "V_{n+1}=V_{n}+h f(t_n,V_n).\n",
    "$$[7]\n",
    "\n",
    "Gdzie:\n",
    "- $f(t_n,V_n)$ jest prawą stroną równania różniczkowego,\n",
    "- $h$ to krok czasowy,\n",
    "- $t_n= t_0+ n  h$."
   ]
  },
  {
   "cell_type": "markdown",
   "id": "4bea83c2",
   "metadata": {},
   "source": [
    "## Metoda Runge-Kutty\n",
    "\n",
    "Metoda numeryczna, służąca do rozwiązywania równań różniczkowych zwyczajnych iteracyjnie. Opracowanie jej jest datowane około roku 1900, przez Carla Rungego i Martina Kuttę, niemieckich matematyków.  \n",
    "W dzisiejszych czasach metoda Runge-Kutty zyskała szerokie zastosowanie jako efektywne narzędzie, powszechne dostępne w komercyjnych oprogramowaniach.\n",
    "\n",
    "### Metoda Runge-Kutty czwartego rzędu (RK4)\n",
    "\n",
    "Zapisujemy równanie modelu jako:\n",
    "\n",
    "$$\n",
    "\\frac{dV(t)}{dt}=f(t, V(t))\n",
    "$$\n",
    "\n",
    "Formuła Runge-Kutty obejmuje średnią ważoną wartości $f(t,V(t))$ w różnych punktach przedziału $t_{\\text{n}} ≤ t ≤ t_{\\text{n+1}}$. Jest ona dana przez wzór:\n",
    "\n",
    "$$\n",
    "V_{n+1}= V_n+h\\left(\\frac{k_1+2k_2+2k_3+k_4}{6}\\right),\n",
    "$$\n",
    "\n",
    "gdzie:\n",
    "\n",
    "$$\n",
    "k_1=f(t_n,V_n), \n",
    "$$\n",
    "\n",
    "$$\n",
    "k_2=f(t_n+\\frac{1}{2}h,V_n+\\frac{1}{2}hk_1),\n",
    "$$\n",
    "\n",
    "$$\n",
    "k_3=f(t_n+\\frac{1}{2}h,V_n+\\frac{1}{2}hk_2),\n",
    "$$\n",
    "\n",
    "$$\n",
    "k_4=f(t_n+h,V_n+hk_3).\n",
    "$$\n",
    "  \n",
    "Każdy kolejny współczynnik $(k_1, k_2, k_3, k_4)$ uwzględnia coraz bardziej złożone przybliżenie pochodnej.\n",
    "\n",
    "Naturalnie, metoda Runge-Kutty, jest nieco bardziej złożona niż wzory omówione wcześniej. Nie ma to jednak dużego znaczenia,\n",
    "ponieważ napisanie programu komputerowego do implementacji tej metody nie należy do najtrudniejszych, a algorytm ma podobną strukturę, co ten w przypadku metody Eulera. [8]  \n"
   ]
  },
  {
   "cell_type": "markdown",
   "id": "3af6caa2",
   "metadata": {},
   "source": [
    "# Porównianie i implementacja metod numerycznych i metody analitycznej"
   ]
  },
  {
   "cell_type": "markdown",
   "id": "6c7f8f5f",
   "metadata": {},
   "source": [
    "Poniżej przedstawiamy implementację numeryczną (Euler, Runge-Kutta 4) i analityczną naszego modelu."
   ]
  },
  {
   "cell_type": "code",
   "execution_count": null,
   "id": "89a1a16b",
   "metadata": {},
   "outputs": [],
   "source": [
    "import numpy as np\n",
    "import matplotlib.pyplot as plt\n",
    "from ipywidgets import interactive\n",
    "import ipywidgets as widgets\n",
    "\n",
    "# parametry\n",
    "V_0= 3000000  # km^3, początkowa objętość lodowca\n",
    "A_0= 900000   # km^2, początkowa powierzchnia lodowca\n",
    "h_0= 4000     # m, początkowa wysokość lodowca\n",
    "T_0= 1        # °C, początkowa temperatura\n",
    "alpha= 0.01   #stała\n",
    "A_ocean= 361.9e6  # km^2, powierzchnia oceanów\n",
    "time_steps= 60  #liczba kroków ( w latach)\n",
    "\n",
    "#temp w czasie\n",
    "def T(t):\n",
    "    return T_0+0.5*t\n",
    "\n",
    "#dV/dt\n",
    "def dV_dt(V, A, T_current):\n",
    "    return -alpha*A*T_current\n",
    "\n",
    "#metoda Eulera\n",
    "def euler(V, A, h_l, time_steps, dt):\n",
    "    volumes, sea_level, times= [V], [0], [0]\n",
    "    for step in range(1, int(time_steps/dt)+1):\n",
    "        t= step*dt\n",
    "        T_current=T(t)\n",
    "\n",
    "        dV= dV_dt(V, A, T_current)*dt\n",
    "        V_new= max(V+ dV, 0)\n",
    "\n",
    "        if V_new > 0:\n",
    "            h_l= h_0* (V_new/ V_0)**(1/ 3)\n",
    "            A= A_0* (h_l/ h_0)**2\n",
    "        else:\n",
    "            h_l, A = 0, 0\n",
    "\n",
    "        h_sea= (V_0- V_new)/ A_ocean\n",
    "        volumes.append(V_new)\n",
    "        sea_level.append(h_sea)\n",
    "        times.append(t)\n",
    "        V= V_new\n",
    "\n",
    "    return times, volumes, sea_level\n",
    "\n",
    "#Runge-Kutta\n",
    "def runge_kutta(V, A, h_l, time_steps, dt):\n",
    "    volumes, sea_level, times= [V], [0], [0]\n",
    "    for step in range(1, int(time_steps/dt)+1):\n",
    "        t=step*dt\n",
    "        T_current=T(t)\n",
    "\n",
    "        k1 = dV_dt(V, A, T_current)\n",
    "        V1 = max(V + 0.5 * dt * k1, 0)\n",
    "        h1 = h_0 * (V1 / V_0)**(1 / 3)\n",
    "        A1 = A_0 * (h1 / h_0)**2\n",
    "\n",
    "        k2 = dV_dt(V1, A1, T_current)\n",
    "        V2 = max(V + 0.5 * dt * k2, 0)\n",
    "        h2 = h_0 * (V2 / V_0)**(1 / 3)\n",
    "        A2 = A_0 * (h2 / h_0)**2\n",
    "\n",
    "        k3 = dV_dt(V2, A2, T_current)\n",
    "        V3 = max(V + dt * k3, 0)\n",
    "        h3 = h_0 * (V3 / V_0)**(1 / 3)\n",
    "        A3 = A_0 * (h3 / h_0)**2\n",
    "\n",
    "        k4 = dV_dt(V3, A3, T_current)\n",
    "        V_new = max(V + (dt / 6) * (k1 + 2 * k2 + 2 * k3 + k4), 0)\n",
    "        V = V_new\n",
    "\n",
    "        if V>0:\n",
    "            h_l=h_0*(V/V_0)**(1/3)\n",
    "            A=A_0*(h_l/h_0)**2\n",
    "        else:\n",
    "            h_l,A=0,0\n",
    "\n",
    "        h_sea= (V_0- V)/ A_ocean\n",
    "        volumes.append(V)\n",
    "        sea_level.append(h_sea)\n",
    "        times.append(t)\n",
    "    return times, volumes, sea_level\n",
    "\n",
    "#analityczna\n",
    "def analytical(t, V_0, A_0, alpha):\n",
    "    term= V_0**(1/3)-(alpha*A_0/(12*V_0**(2/3)))*t**2\n",
    "    return np.maximum(term**3, 0)\n",
    "\n",
    "#wykresy 3 i 4\n",
    "def plot(dt):\n",
    "    #obliczenia\n",
    "    times_euler, volumes_euler, sea_level_euler = euler(V_0, A_0, h_0, time_steps, dt)\n",
    "    times_rk, volumes_rk, sea_level_rk = runge_kutta(V_0, A_0, h_0, time_steps, dt)\n",
    "    times_analytical = np.linspace(0, time_steps, 1000)\n",
    "    volumes_analytical = analytical(times_analytical, V_0, A_0, alpha)\n",
    "    sea_level_analytical=(V_0-volumes_analytical)/A_ocean*1000  # w mm\n",
    "\n",
    "    plt.figure(figsize=(12, 10))\n",
    "\n",
    "    # Wykres 3: Objętość lodowca\n",
    "    plt.subplot(3, 1, 1)\n",
    "    plt.plot(times_rk, volumes_rk, label=\"Runge-Kutta\", color=\"blue\")\n",
    "    plt.plot(times_euler, volumes_euler, label=\"Euler\", color=\"green\")\n",
    "    plt.plot(times_analytical, volumes_analytical, label=\"Analityczne\", color=\"red\")\n",
    "    plt.xlabel(\"Czas (lata)\")\n",
    "    plt.ylabel(\"Objętość ($km^3$)\")\n",
    "    plt.title(\"Wykres 3. Zmiana objętości lodowca w czasie\")\n",
    "    plt.legend()\n",
    "    plt.grid()\n",
    "\n",
    "    # Wykres 4: Wzrost poziomu morza\n",
    "    plt.subplot(3, 1, 2)\n",
    "    plt.plot(times_rk, [h * 1000 for h in sea_level_rk], label=\"Runge-Kutta\", color=\"blue\")\n",
    "    plt.plot(times_euler, [h * 1000 for h in sea_level_euler], label=\"Euler\", color=\"green\")\n",
    "    plt.plot(times_analytical, sea_level_analytical, label=\"Analityczne\", color=\"red\")\n",
    "    plt.xlabel(\"Czas (lata)\")\n",
    "    plt.ylabel(\"Wzrost poziomu morza (mm)\")\n",
    "    plt.title(\"Wykres 4. Wzrost poziomu morza spowodowany topnieniem lodowca\")\n",
    "    plt.legend()\n",
    "    plt.grid()\n",
    "\n",
    "    plt.tight_layout()\n",
    "    plt.show()\n",
    "\n",
    "interactive_plot = interactive(plot, dt=widgets.FloatSlider(value=10, min=1, max=10, step=1, description=\"Krok czasowy (dt):\"))\n",
    "output = interactive_plot.children[-1]\n",
    "output.layout.height = '600px' \n",
    "interactive_plot\n"
   ]
  },
  {
   "cell_type": "markdown",
   "id": "23201760",
   "metadata": {},
   "source": [
    "Korzystając z suwaka, możemy zauważyć na wspomnianych _wykresach 3_ i _4_, że wszystkie metody numeryczne dają różne wyniki dla różnych kroków czasowych.\n",
    "Metoda Eulera, przy większych krokach czasowych, wydaje się być najmniej dokładna spośród wszystkich metod."
   ]
  },
  {
   "cell_type": "markdown",
   "id": "137ad3b7",
   "metadata": {},
   "source": [
    "Potwierdźmy nasze obserwacje, obliczając błąd względny dla metody Eulera i Runge-Kutty. Przyjmujemy, że rozwiązanie analityczne jest naszym wynikiem oczekiwanym."
   ]
  },
  {
   "cell_type": "code",
   "execution_count": null,
   "id": "55105103",
   "metadata": {},
   "outputs": [
    {
     "data": {
      "image/png": "[encoded data removed]",
      "text/plain": [
       "<Figure size 1000x600 with 1 Axes>"
      ]
     },
     "metadata": {},
     "output_type": "display_data"
    }
   ],
   "source": [
    "times_E, y_E, sea_level_E= results_E\n",
    "times_RK4, y_RK4, sea_level_RK4=results_RK4\n",
    "\n",
    "def analytical(t, V_0, A_0, alpha):\n",
    "    term= V_0**(1/3)-(alpha*A_0/(12*V_0**(2/3)))*t**2\n",
    "    return max(term**3, 0)\n",
    "\n",
    "error_E=[]\n",
    "error_RK4=[]\n",
    "index=[]\n",
    "\n",
    "for i in range(0, len(times_E), 3):\n",
    "    t= times_E[i] \n",
    "    y= V_analytical(t, V_0, A_0, alpha)\n",
    "    error= abs(y_E[i]- y)/abs(y)\n",
    "    error_E.append(error)\n",
    "\n",
    "    error_rk4 = abs(y_RK4[i]- y)/abs(y)\n",
    "    error_RK4.append(error_rk4)\n",
    "    index.append(t)\n",
    "\n",
    "plt.figure(figsize=(10, 6))\n",
    "plt.plot(index, error_E, label=\"Euler\")\n",
    "plt.plot(index, error_RK4, label=\"Runge-Kutta 4\")\n",
    "plt.xlabel(\"Czas (lata)\")\n",
    "plt.ylabel(\"Błąd względny\")\n",
    "plt.title(\"Wykres 5. Błąd względny metod Eulera i Runge-Kutty względem rozwiązania analitycznego\")\n",
    "plt.legend()\n",
    "plt.grid()\n",
    "plt.show()\n"
   ]
  },
  {
   "cell_type": "markdown",
   "id": "12609da3",
   "metadata": {},
   "source": [
    "Na początku obie metody, ze względu na swoje przybliżeniowe charakterystyki, wykazują podobny błąd względny. Jednak w miarę upływu czasu błąd metody Eulera rośnie szybciej niż w przypadku metody Runge-Kutty.\n",
    "\n",
    "Z wykresu 5 możemy potwierdzić nasze przypuszczenia. Dla modelu lodowca metoda Runge-Kutty daje wyniki najbardziej zbliżone do rozwiązania analitycznego."
   ]
  },
  {
   "cell_type": "markdown",
   "id": "e55521ed",
   "metadata": {},
   "source": [
    "# Konkluzja\n",
    "\n",
    "Aktualne oraz przyszłe topnienie lodowców na całym globie jest poważnym problemem bezpośrednio powiązanym ze wzrostem poziomu  morza i innych akwenów oraz zagrożeniami naturalnymi. Jako, że ich model jest zależny od temperatury, są uzależnione od zmian klimatycznych. Przy przewidywanych ociepleniach atmosfery, większość z nich stopnieje w ciągu najbliższych dekad.[10]\n",
    "\n",
    "Matematyczny model lodowca ilustruje zależność wzrostu temperatury ze zmniejszaniem się objętości lodowca oraz jednoczesnym wzrostem poziomu mórz. Parametry, takie jak początkowa objętość lodowca czy powierzchnia oceanów, pozwalają na oszacowanie skutków tych procesów. Rzeczywista dynamika może być jednak bardziej skomplikowana, ponieważ w tym modelu nie uwzględniono dynamiki przepływu wody z lodowca do oceanu, zmian prądów oceanicznych ani procesów ablacji lodowca.\n",
    "\n",
    "O ile stworzono już wiele modeli dla pojedynczych lodowców, wciąż istnieje zapotrzebowanie na modele globalne, obejmujące wszystkie 200 000 lodowców. Takie kompleksowe modele mogłyby dostarczyć dokładniejszych przewidywań dotyczących wzrostu poziomu wód.\n",
    "\n",
    "\n"
   ]
  },
  {
   "cell_type": "markdown",
   "id": "016829ad",
   "metadata": {},
   "source": [
    "<p style=\"font-size: 14px; color: gray; font-style: italic; text-align:center\">Rysunek 1:</p>\n",
    "<p style=\"font-size: 14px; color: gray; font-style: italic;text-align:center\">Występowanie lodowców na Ziemi [11]</p>\n",
    "<img src=\"https://www.antarcticglaciers.org/wp-content/uploads/2014/11/global_glaciers_rgi_Small.jpg\" class=\"bg-primary\" width=\"600px\">"
   ]
  },
  {
   "cell_type": "markdown",
   "id": "b5f76925",
   "metadata": {},
   "source": [
    "Szacunkowo, jeśli wszystkie lodowce na świecie by stopniały, poziom morza podniósłby się o 405 metrów. [12] Jest to wystarczająca wartość, aby zalać największe archipelagi oraz przybrzeżne miasta, odbierając domy milionom ludzi. Doprowadziłoby to do powstania kolejnych problemów natury urbanistycznej i komunikacyjnej w innych miastach. Byłaby to również ogromna strata dziedzictwa kulturowego.\n",
    "\n",
    "Topnienie lodowców jest złożonym i poważnym problemem, skutkującym wielkimi zmianami dla ludzkości. Dlatego szczególnie ważne jest, aby każdego dnia podejmować świadome decyzje dobre dla naszego klimatu. Proste działania, takie jak korzystanie z opakowań wielorazowego użytku, wybieranie transportu publicznego czy nawet gaszenie światła w nieużywanych pomieszczeniach, pomagają zmniejszyć tempo zmian klimatycznych, których już zaczynamy doświadczać.\n"
   ]
  },
  {
   "cell_type": "markdown",
   "id": "765deb9c",
   "metadata": {},
   "source": [
    "# Bibliografia"
   ]
  },
  {
   "cell_type": "markdown",
   "id": "71a0a1e2",
   "metadata": {},
   "source": [
    "[1] Arendt, A. A., Walsh, J. E., & Harrison, W. D. (2009). Rapid Wastage of Alaska Glaciers and Their Contribution to Rising Sea Level. 382-383.  \n",
    "\n",
    "[2] Owen King, Duncan J. Quincey, Jonathan L. Carrivick, & Ann V. Rowan (2017) Spatial variability in mass loss of glaciers in the Everest region, central Himalayas, between 2000 and 2015. 407-409.  \n",
    "\n",
    "[3] 2024 Encyclopædia Universalis France. Glaciers. 1-2.  \n",
    "\n",
    "[4] Zintegrowana platforma edukacyjna, Serwis Ministerstwa Edukacji Narodowej. Jak lodowce i lądolody przekształcają powierzchnię Ziemi. Dostępne na: https://zpe.gov.pl/a/jak-lodowce-i-ladolody-przeksztalcaja-powierzchnie-ziemi/DJxXwGMA9  \n",
    "\n",
    "[5] GISTEMP Team, 2024: GISS Surface Temperature Analysis (GISTEMP), version 4. NASA Goddard Institute for Space Studies. Dataset accessed 2024-12-28 at https://data.giss.nasa.gov/gistemp/.\n",
    "Lenssen, N., G.A. Schmidt, M. Hendrickson, P. Jacobs, M. Menne, and R. Ruedy, 2024: A GISTEMPv4 observational uncertainty ensemble. J. Geophys. Res. Atmos., 129, no. 17, e2023JD040179, doi:10.1029/2023JD040179.  \n",
    "\n",
    "[6] GeoGebra Team (2024). GeoGebra [Oprogramowanie komputerowe]. GeoGebra Institute. Dostępne na: https://www.geogebra.org.  \n",
    "[7] Rosseta Code (2024). Euler Method.https://rosettacode.org/wiki/Euler_method# .  \n",
    "\n",
    "[8] William E. Boyce, Richard C. DiPrima (2009) Elementary Differential Equations and Boundary Value Problems. 459-463.  \n",
    "\n",
    "[9] Matthias Huss, Regine Hock (2015) A new model for global glacier change and sea-level rise. 1-2.  \n",
    "\n",
    "[10] https://earthobservatory.nasa.gov/images/83918/the-randolph-glacier-inventory"
   ]
  },
  {
   "cell_type": "markdown",
   "id": "09547f0d",
   "metadata": {},
   "source": [
    "[11] Bethan Davies (2023) Mapping the World’s Glaciers. 1-7.  "
   ]
  }
 ],
 "metadata": {
  "kernelspec": {
   "display_name": "Python 3",
   "language": "python",
   "name": "python3"
  },
  "language_info": {
   "codemirror_mode": {
    "name": "ipython",
    "version": 3
   },
   "file_extension": ".py",
   "mimetype": "text/x-python",
   "name": "python",
   "nbconvert_exporter": "python",
   "pygments_lexer": "ipython3",
   "version": "3.13.1"
  }
 },
 "nbformat": 4,
 "nbformat_minor": 5
}
